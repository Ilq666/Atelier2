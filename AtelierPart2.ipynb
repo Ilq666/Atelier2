{
  "cells": [
    {
      "cell_type": "code",
      "execution_count": null,
      "metadata": {
        "id": "XWUBxeGFoecd"
      },
      "outputs": [],
      "source": [
        "import torch\n",
        "from torchvision import datasets, transforms\n",
        "from torchvision.models.detection import fasterrcnn_resnet50_fpn\n",
        "from torch.utils.data import DataLoader\n",
        "from torchvision.models.detection.faster_rcnn import FastRCNNPredictor"
      ]
    },
    {
      "cell_type": "code",
      "execution_count": null,
      "metadata": {
        "colab": {
          "base_uri": "https://localhost:8080/"
        },
        "id": "i8fmeekaorP2",
        "outputId": "f27d914e-5ab9-440c-8b42-b2d6dca2e464"
      },
      "outputs": [
        {
          "name": "stderr",
          "output_type": "stream",
          "text": [
            "/usr/local/lib/python3.10/dist-packages/torchvision/models/_utils.py:208: UserWarning: The parameter 'pretrained' is deprecated since 0.13 and may be removed in the future, please use 'weights' instead.\n",
            "  warnings.warn(\n",
            "/usr/local/lib/python3.10/dist-packages/torchvision/models/_utils.py:223: UserWarning: Arguments other than a weight enum or `None` for 'weights' are deprecated since 0.13 and may be removed in the future. The current behavior is equivalent to passing `weights=FasterRCNN_ResNet50_FPN_Weights.COCO_V1`. You can also use `weights=FasterRCNN_ResNet50_FPN_Weights.DEFAULT` to get the most up-to-date weights.\n",
            "  warnings.warn(msg)\n",
            "Downloading: \"https://download.pytorch.org/models/fasterrcnn_resnet50_fpn_coco-258fb6c6.pth\" to /root/.cache/torch/hub/checkpoints/fasterrcnn_resnet50_fpn_coco-258fb6c6.pth\n",
            "100%|██████████| 160M/160M [00:01<00:00, 137MB/s]\n"
          ]
        }
      ],
      "source": [
        "# Define the Faster R-CNN architecture\n",
        "model = fasterrcnn_resnet50_fpn(pretrained=True)\n",
        "\n",
        "# Modify the roi_heads module to return 2 values\n",
        "in_features = model.roi_heads.box_predictor.cls_score.in_features\n",
        "num_classes = 10  # MNIST has 10 classes\n",
        "model.roi_heads.box_predictor = FastRCNNPredictor(in_features, num_classes + 1)  # +1 for the background class"
      ]
    },
    {
      "cell_type": "code",
      "execution_count": null,
      "metadata": {
        "colab": {
          "base_uri": "https://localhost:8080/"
        },
        "id": "-r3RyQ56pJEV",
        "outputId": "7883c9c4-583f-417a-bfeb-7b00ce3b26cf"
      },
      "outputs": [
        {
          "name": "stdout",
          "output_type": "stream",
          "text": [
            "Downloading http://yann.lecun.com/exdb/mnist/train-images-idx3-ubyte.gz\n",
            "Downloading http://yann.lecun.com/exdb/mnist/train-images-idx3-ubyte.gz to C:/Users/hp/Downloads/archive (1)/MNIST/raw/train-images-idx3-ubyte.gz\n"
          ]
        },
        {
          "name": "stderr",
          "output_type": "stream",
          "text": [
            "100%|██████████| 9912422/9912422 [00:00<00:00, 162878487.65it/s]"
          ]
        },
        {
          "name": "stdout",
          "output_type": "stream",
          "text": [
            "Extracting C:/Users/hp/Downloads/archive (1)/MNIST/raw/train-images-idx3-ubyte.gz to C:/Users/hp/Downloads/archive (1)/MNIST/raw\n"
          ]
        },
        {
          "name": "stderr",
          "output_type": "stream",
          "text": [
            "\n"
          ]
        },
        {
          "name": "stdout",
          "output_type": "stream",
          "text": [
            "\n",
            "Downloading http://yann.lecun.com/exdb/mnist/train-labels-idx1-ubyte.gz\n",
            "Downloading http://yann.lecun.com/exdb/mnist/train-labels-idx1-ubyte.gz to C:/Users/hp/Downloads/archive (1)/MNIST/raw/train-labels-idx1-ubyte.gz\n"
          ]
        },
        {
          "name": "stderr",
          "output_type": "stream",
          "text": [
            "100%|██████████| 28881/28881 [00:00<00:00, 96908555.06it/s]"
          ]
        },
        {
          "name": "stdout",
          "output_type": "stream",
          "text": [
            "Extracting C:/Users/hp/Downloads/archive (1)/MNIST/raw/train-labels-idx1-ubyte.gz to C:/Users/hp/Downloads/archive (1)/MNIST/raw\n",
            "\n",
            "Downloading http://yann.lecun.com/exdb/mnist/t10k-images-idx3-ubyte.gz\n"
          ]
        },
        {
          "name": "stderr",
          "output_type": "stream",
          "text": [
            "\n"
          ]
        },
        {
          "name": "stdout",
          "output_type": "stream",
          "text": [
            "Downloading http://yann.lecun.com/exdb/mnist/t10k-images-idx3-ubyte.gz to C:/Users/hp/Downloads/archive (1)/MNIST/raw/t10k-images-idx3-ubyte.gz\n"
          ]
        },
        {
          "name": "stderr",
          "output_type": "stream",
          "text": [
            "100%|██████████| 1648877/1648877 [00:00<00:00, 46227057.53it/s]\n"
          ]
        },
        {
          "name": "stdout",
          "output_type": "stream",
          "text": [
            "Extracting C:/Users/hp/Downloads/archive (1)/MNIST/raw/t10k-images-idx3-ubyte.gz to C:/Users/hp/Downloads/archive (1)/MNIST/raw\n",
            "\n",
            "Downloading http://yann.lecun.com/exdb/mnist/t10k-labels-idx1-ubyte.gz\n",
            "Downloading http://yann.lecun.com/exdb/mnist/t10k-labels-idx1-ubyte.gz to C:/Users/hp/Downloads/archive (1)/MNIST/raw/t10k-labels-idx1-ubyte.gz\n"
          ]
        },
        {
          "name": "stderr",
          "output_type": "stream",
          "text": [
            "100%|██████████| 4542/4542 [00:00<00:00, 5781647.58it/s]"
          ]
        },
        {
          "name": "stdout",
          "output_type": "stream",
          "text": [
            "Extracting C:/Users/hp/Downloads/archive (1)/MNIST/raw/t10k-labels-idx1-ubyte.gz to C:/Users/hp/Downloads/archive (1)/MNIST/raw\n",
            "\n"
          ]
        },
        {
          "name": "stderr",
          "output_type": "stream",
          "text": [
            "\n"
          ]
        }
      ],
      "source": [
        "# Preprocess the MNIST dataset\n",
        "transform = transforms.Compose([\n",
        "    transforms.Resize((300, 300)),\n",
        "    transforms.ToTensor(),\n",
        "])\n",
        "\n",
        "trainset = datasets.MNIST(root='C:/Users/hp/Downloads/archive (5)', train=True, download=True, transform=transform)\n",
        "testset = datasets.MNIST(root='C:/Users/hp/Downloads/archive (5)', train=False, download=True, transform=transform)\n",
        "\n",
        "trainloader = DataLoader(trainset, batch_size=4, shuffle=True)\n",
        "testloader = DataLoader(testset, batch_size=4, shuffle=False)\n"
      ]
    },
    {
      "cell_type": "code",
      "execution_count": null,
      "metadata": {
        "colab": {
          "base_uri": "https://localhost:8080/"
        },
        "id": "70l3nbvKwbBg",
        "outputId": "91efafdb-f673-4ea6-ddc5-4dc59f56fb51"
      },
      "outputs": [
        {
          "name": "stdout",
          "output_type": "stream",
          "text": [
            "Epoch 1/5 complete.\n",
            "Epoch 2/5 complete.\n",
            "Epoch 3/5 complete.\n",
            "Epoch 4/5 complete.\n",
            "Epoch 5/5 complete.\n",
            "Classifier training complete.\n"
          ]
        }
      ],
      "source": [
        "# Train the Faster R-CNN model\n",
        "device = torch.device(\"cuda\" if torch.cuda.is_available() else \"cpu\")\n",
        "model.to(device)\n",
        "\n",
        "optimizer = torch.optim.SGD(model.parameters(), lr=0.005, momentum=0.9)\n",
        "num_epochs = 5\n",
        "\n",
        "for epoch in range(num_epochs):\n",
        "    model.train()\n",
        "    for images, targets in trainloader:\n",
        "        images = [img.to(device) for img in images]\n",
        "\n",
        "        targets_list = []\n",
        "        for target in targets:\n",
        "            if isinstance(target, dict) and \"boxes\" in target and \"labels\" in target:\n",
        "                target_dict = {\n",
        "                    \"boxes\": target[\"boxes\"].to(device),\n",
        "                    \"labels\": target[\"labels\"].to(device)\n",
        "                }\n",
        "                targets_list.append(target_dict)\n",
        "\n",
        "        if len(targets_list) > 0:\n",
        "            optimizer.zero_grad()\n",
        "            loss_dict = model(images, targets_list)\n",
        "            losses = sum(loss for loss in loss_dict.values())\n",
        "            losses.backward()\n",
        "            optimizer.step()\n",
        "\n",
        "    print(f\"Epoch {epoch + 1}/{num_epochs} complete.\")\n",
        "\n",
        "print(\"Classifier training complete.\")"
      ]
    },
    {
      "cell_type": "code",
      "execution_count": null,
      "metadata": {
        "id": "zmnbIZ0jxKMk"
      },
      "outputs": [],
      "source": [
        "model.eval()\n",
        "\n",
        "all_labels = []\n",
        "all_predictions = []\n",
        "\n",
        "with torch.no_grad():\n",
        "    for images, targets in testloader:\n",
        "        images = [img.to(device) for img in images]\n",
        "\n",
        "        outputs = model(images)\n",
        "\n",
        "        # Assume targets are tensors\n",
        "        for output, target in zip(outputs, targets):\n",
        "            if target.ndim > 0:\n",
        "                _, predicted = torch.max(output[\"labels\"], -1)\n",
        "                all_labels.extend(target.cpu().numpy())\n",
        "                all_predictions.extend(predicted.cpu().numpy())\n",
        "\n",
        "\n",
        "# Calculate accuracy\n",
        "correct = sum(1 for true, pred in zip(all_labels, all_predictions) if true == pred)\n",
        "total = len(all_labels)\n",
        "accuracy = correct / total\n",
        "print(f'Accuracy on test set: {accuracy * 100:.2f}%')"
      ]
    },
    {
      "cell_type": "code",
      "execution_count": null,
      "metadata": {
        "id": "mXxDUayrxPxj"
      },
      "outputs": [],
      "source": []
    },
    {
      "cell_type": "code",
      "execution_count": null,
      "metadata": {
        "id": "37dfBrdqxSZL"
      },
      "outputs": [],
      "source": []
    }
  ],
  "metadata": {
    "colab": {
      "provenance": []
    },
    "kernelspec": {
      "display_name": "Python 3",
      "name": "python3"
    },
    "language_info": {
      "name": "python"
    }
  },
  "nbformat": 4,
  "nbformat_minor": 0
}
